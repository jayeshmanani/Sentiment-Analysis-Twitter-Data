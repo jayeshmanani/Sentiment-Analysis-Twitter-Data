{
  "nbformat": 4,
  "nbformat_minor": 0,
  "metadata": {
    "colab": {
      "name": "twitter_sentiment_analysis_rule_based.ipynb",
      "version": "0.3.2",
      "provenance": [],
      "collapsed_sections": [],
      "include_colab_link": true
    },
    "kernelspec": {
      "name": "python3",
      "display_name": "Python 3"
    }
  },
  "cells": [
    {
      "cell_type": "markdown",
      "metadata": {
        "id": "view-in-github",
        "colab_type": "text"
      },
      "source": [
        "<a href=\"https://colab.research.google.com/github/jmanani5/Sentiment-Analysis-Twitter-Data/blob/master/twitter_sentiment_analysis_rule_based.ipynb\" target=\"_parent\"><img src=\"https://colab.research.google.com/assets/colab-badge.svg\" alt=\"Open In Colab\"/></a>"
      ]
    },
    {
      "metadata": {
        "id": "XwDcFk7ke6k6",
        "colab_type": "code",
        "colab": {
          "base_uri": "https://localhost:8080/",
          "height": 238
        },
        "outputId": "46b95029-fb77-4e3e-a357-d74cadff38f0"
      },
      "cell_type": "code",
      "source": [
        "# Installing Python Libraries\n",
        "\n",
        "!pip install vaderSentiment\n",
        "!pip install pandas\n",
        "!pip install nltk"
      ],
      "execution_count": 1,
      "outputs": [
        {
          "output_type": "stream",
          "text": [
            "Collecting vaderSentiment\n",
            "\u001b[?25l  Downloading https://files.pythonhosted.org/packages/86/9e/c53e1fc61aac5ee490a6ac5e21b1ac04e55a7c2aba647bb8411c9aadf24e/vaderSentiment-3.2.1-py2.py3-none-any.whl (125kB)\n",
            "\u001b[K    100% |████████████████████████████████| 133kB 6.3MB/s \n",
            "\u001b[?25hInstalling collected packages: vaderSentiment\n",
            "Successfully installed vaderSentiment-3.2.1\n",
            "Requirement already satisfied: pandas in /usr/local/lib/python3.6/dist-packages (0.22.0)\n",
            "Requirement already satisfied: pytz>=2011k in /usr/local/lib/python3.6/dist-packages (from pandas) (2018.9)\n",
            "Requirement already satisfied: python-dateutil>=2 in /usr/local/lib/python3.6/dist-packages (from pandas) (2.5.3)\n",
            "Requirement already satisfied: numpy>=1.9.0 in /usr/local/lib/python3.6/dist-packages (from pandas) (1.14.6)\n",
            "Requirement already satisfied: six>=1.5 in /usr/local/lib/python3.6/dist-packages (from python-dateutil>=2->pandas) (1.11.0)\n",
            "Requirement already satisfied: nltk in /usr/local/lib/python3.6/dist-packages (3.2.5)\n",
            "Requirement already satisfied: six in /usr/local/lib/python3.6/dist-packages (from nltk) (1.11.0)\n"
          ],
          "name": "stdout"
        }
      ]
    },
    {
      "metadata": {
        "id": "Csvwa1CSlMS0",
        "colab_type": "code",
        "colab": {
          "base_uri": "https://localhost:8080/",
          "height": 67
        },
        "outputId": "d5a2d356-4764-40ef-8349-fd0155d59ec7"
      },
      "cell_type": "code",
      "source": [
        "# Importing Dependencies for using in this Tweeter Tweet Sentimental Analysis On Rule Based\n",
        "\n",
        "import nltk\n",
        "nltk.download('vader_lexicon')\n",
        "\n",
        "import pandas as pd\n",
        "import re\n",
        "import tweepy\n",
        "from nltk.sentiment.vader import SentimentIntensityAnalyzer"
      ],
      "execution_count": 37,
      "outputs": [
        {
          "output_type": "stream",
          "text": [
            "[nltk_data] Downloading package vader_lexicon to /root/nltk_data...\n",
            "[nltk_data]   Package vader_lexicon is already up-to-date!\n"
          ],
          "name": "stdout"
        },
        {
          "output_type": "execute_result",
          "data": {
            "text/plain": [
              "True"
            ]
          },
          "metadata": {
            "tags": []
          },
          "execution_count": 37
        }
      ]
    },
    {
      "metadata": {
        "id": "3ffb2vOdeqGd",
        "colab_type": "code",
        "colab": {}
      },
      "cell_type": "code",
      "source": [
        "# Your Twitter Credentials\n",
        "# Go to the website mentioned below and login to your twitter account and then make a app by filling necessary info and the get this keys and secret from there\n",
        "# website to get credentials--> https://developer.twitter.com/en/apps\n",
        "\n",
        "consumer_key = 'Your Twitter Consumer Key'\n",
        "consumer_secret = 'Your Twitter Consumer Secret'\n",
        "access_token = 'Your Twitter Access Token'\n",
        "access_token_secret = 'Your Twitter Access Token Secret'"
      ],
      "execution_count": 0,
      "outputs": []
    },
    {
      "metadata": {
        "id": "RPe5xDEcexZi",
        "colab_type": "code",
        "colab": {}
      },
      "cell_type": "code",
      "source": [
        "# Api call using twitter credentials\n",
        "auth = tweepy.OAuthHandler(consumer_key, consumer_secret)\n",
        "\n",
        "auth.set_access_token( access_token, access_token_secret)\n",
        "api = tweepy.API(auth)"
      ],
      "execution_count": 0,
      "outputs": []
    },
    {
      "metadata": {
        "id": "IzOIbOdle3Wb",
        "colab_type": "code",
        "colab": {}
      },
      "cell_type": "code",
      "source": [
        "## Defining a function for clearing the text tweet data from fetched data\n",
        "\n",
        "def clean_tweets(tweet_x_arg):\n",
        "  return ' '.join(re.sub(\"(@[A-Za-z0-9]+)|([^0-9A-Za-z \\t])|(\\w+:\\/\\/\\S+)\",\" \",tweet_x_arg).split())"
      ],
      "execution_count": 0,
      "outputs": []
    },
    {
      "metadata": {
        "id": "ANwx9uYAhYm_",
        "colab_type": "code",
        "colab": {}
      },
      "cell_type": "code",
      "source": [
        "# Searching for some keyword You are looking for \n",
        "\n",
        "tweets = api.search(q='machine learning', count = 100)\n",
        "\n",
        "data = pd.DataFrame(data= [clean_tweets(tweet.text) for tweet in tweets], columns = ['Tweets'])"
      ],
      "execution_count": 0,
      "outputs": []
    },
    {
      "metadata": {
        "id": "SyZz3J4WpC1e",
        "colab_type": "code",
        "colab": {
          "base_uri": "https://localhost:8080/",
          "height": 34
        },
        "outputId": "8d6052ca-1934-4f40-b79f-53a683f80eb3"
      },
      "cell_type": "code",
      "source": [
        "data.shape"
      ],
      "execution_count": 60,
      "outputs": [
        {
          "output_type": "execute_result",
          "data": {
            "text/plain": [
              "(96, 1)"
            ]
          },
          "metadata": {
            "tags": []
          },
          "execution_count": 60
        }
      ]
    },
    {
      "metadata": {
        "id": "yf9CX1d4mCku",
        "colab_type": "code",
        "colab": {
          "base_uri": "https://localhost:8080/",
          "height": 195
        },
        "outputId": "799c2ecb-ee05-4c8e-ac22-6c7d742e77cf"
      },
      "cell_type": "code",
      "source": [
        "data.head()"
      ],
      "execution_count": 61,
      "outputs": [
        {
          "output_type": "execute_result",
          "data": {
            "text/html": [
              "<div>\n",
              "<style scoped>\n",
              "    .dataframe tbody tr th:only-of-type {\n",
              "        vertical-align: middle;\n",
              "    }\n",
              "\n",
              "    .dataframe tbody tr th {\n",
              "        vertical-align: top;\n",
              "    }\n",
              "\n",
              "    .dataframe thead th {\n",
              "        text-align: right;\n",
              "    }\n",
              "</style>\n",
              "<table border=\"1\" class=\"dataframe\">\n",
              "  <thead>\n",
              "    <tr style=\"text-align: right;\">\n",
              "      <th></th>\n",
              "      <th>Tweets</th>\n",
              "    </tr>\n",
              "  </thead>\n",
              "  <tbody>\n",
              "    <tr>\n",
              "      <th>0</th>\n",
              "      <td>RT Today I simply wanted to renew my passport ...</td>\n",
              "    </tr>\n",
              "    <tr>\n",
              "      <th>1</th>\n",
              "      <td>RT How important is each of the touch points i...</td>\n",
              "    </tr>\n",
              "    <tr>\n",
              "      <th>2</th>\n",
              "      <td>This Data Startup Is Using Machine Learning An...</td>\n",
              "    </tr>\n",
              "    <tr>\n",
              "      <th>3</th>\n",
              "      <td>RT Please RT The Thoth team is looking for jun...</td>\n",
              "    </tr>\n",
              "    <tr>\n",
              "      <th>4</th>\n",
              "      <td>RT Today I simply wanted to renew my passport ...</td>\n",
              "    </tr>\n",
              "  </tbody>\n",
              "</table>\n",
              "</div>"
            ],
            "text/plain": [
              "                                              Tweets\n",
              "0  RT Today I simply wanted to renew my passport ...\n",
              "1  RT How important is each of the touch points i...\n",
              "2  This Data Startup Is Using Machine Learning An...\n",
              "3  RT Please RT The Thoth team is looking for jun...\n",
              "4  RT Today I simply wanted to renew my passport ..."
            ]
          },
          "metadata": {
            "tags": []
          },
          "execution_count": 61
        }
      ]
    },
    {
      "metadata": {
        "id": "Z1oxsKpAn9Ut",
        "colab_type": "code",
        "colab": {}
      },
      "cell_type": "code",
      "source": [
        "## define a lexiacon and rule based sentiment intensity analyzer and using this we can get polarity into neutral, negative, positive, compound categories \n",
        "## And this way we can know sentiment of the people using the sentimental analysis of the tweeter data collected from twitter API.\n",
        "\n",
        "sentiment_intensity = SentimentIntensityAnalyzer()\n",
        "polar = []\n",
        "for index, row in data.iterrows():\n",
        "  sentiment_analyzed = sentiment_intensity.polarity_scores(row['Tweets'])\n",
        "  polar.append(sentiment_analyzed)\n",
        "polarities = pd.Series(polar)\n",
        "data['polarity'] = polarities.values"
      ],
      "execution_count": 0,
      "outputs": []
    },
    {
      "metadata": {
        "id": "9KQV8L3c1mYa",
        "colab_type": "code",
        "colab": {
          "base_uri": "https://localhost:8080/",
          "height": 343
        },
        "outputId": "54d2aa06-9ba2-4d06-a1cb-5f6c23457ccb"
      },
      "cell_type": "code",
      "source": [
        "display(data.head(10))"
      ],
      "execution_count": 63,
      "outputs": [
        {
          "output_type": "display_data",
          "data": {
            "text/html": [
              "<div>\n",
              "<style scoped>\n",
              "    .dataframe tbody tr th:only-of-type {\n",
              "        vertical-align: middle;\n",
              "    }\n",
              "\n",
              "    .dataframe tbody tr th {\n",
              "        vertical-align: top;\n",
              "    }\n",
              "\n",
              "    .dataframe thead th {\n",
              "        text-align: right;\n",
              "    }\n",
              "</style>\n",
              "<table border=\"1\" class=\"dataframe\">\n",
              "  <thead>\n",
              "    <tr style=\"text-align: right;\">\n",
              "      <th></th>\n",
              "      <th>Tweets</th>\n",
              "      <th>polarity</th>\n",
              "    </tr>\n",
              "  </thead>\n",
              "  <tbody>\n",
              "    <tr>\n",
              "      <th>0</th>\n",
              "      <td>RT Today I simply wanted to renew my passport ...</td>\n",
              "      <td>{'neg': 0.0, 'neu': 1.0, 'pos': 0.0, 'compound...</td>\n",
              "    </tr>\n",
              "    <tr>\n",
              "      <th>1</th>\n",
              "      <td>RT How important is each of the touch points i...</td>\n",
              "      <td>{'neg': 0.0, 'neu': 0.904, 'pos': 0.096, 'comp...</td>\n",
              "    </tr>\n",
              "    <tr>\n",
              "      <th>2</th>\n",
              "      <td>This Data Startup Is Using Machine Learning An...</td>\n",
              "      <td>{'neg': 0.123, 'neu': 0.877, 'pos': 0.0, 'comp...</td>\n",
              "    </tr>\n",
              "    <tr>\n",
              "      <th>3</th>\n",
              "      <td>RT Please RT The Thoth team is looking for jun...</td>\n",
              "      <td>{'neg': 0.0, 'neu': 0.773, 'pos': 0.227, 'comp...</td>\n",
              "    </tr>\n",
              "    <tr>\n",
              "      <th>4</th>\n",
              "      <td>RT Today I simply wanted to renew my passport ...</td>\n",
              "      <td>{'neg': 0.0, 'neu': 1.0, 'pos': 0.0, 'compound...</td>\n",
              "    </tr>\n",
              "    <tr>\n",
              "      <th>5</th>\n",
              "      <td>RT Automated MachineLearning for rapid innovat...</td>\n",
              "      <td>{'neg': 0.0, 'neu': 0.576, 'pos': 0.424, 'comp...</td>\n",
              "    </tr>\n",
              "    <tr>\n",
              "      <th>6</th>\n",
              "      <td>Optimized Preprocessing and Machine Learning f...</td>\n",
              "      <td>{'neg': 0.0, 'neu': 0.769, 'pos': 0.231, 'comp...</td>\n",
              "    </tr>\n",
              "    <tr>\n",
              "      <th>7</th>\n",
              "      <td>New Publication Using a machine learning appro...</td>\n",
              "      <td>{'neg': 0.0, 'neu': 1.0, 'pos': 0.0, 'compound...</td>\n",
              "    </tr>\n",
              "    <tr>\n",
              "      <th>8</th>\n",
              "      <td>RT How important is each of the touch points i...</td>\n",
              "      <td>{'neg': 0.0, 'neu': 0.904, 'pos': 0.096, 'comp...</td>\n",
              "    </tr>\n",
              "    <tr>\n",
              "      <th>9</th>\n",
              "      <td>How important is each of the touch points in t...</td>\n",
              "      <td>{'neg': 0.0, 'neu': 0.893, 'pos': 0.107, 'comp...</td>\n",
              "    </tr>\n",
              "  </tbody>\n",
              "</table>\n",
              "</div>"
            ],
            "text/plain": [
              "                                              Tweets  \\\n",
              "0  RT Today I simply wanted to renew my passport ...   \n",
              "1  RT How important is each of the touch points i...   \n",
              "2  This Data Startup Is Using Machine Learning An...   \n",
              "3  RT Please RT The Thoth team is looking for jun...   \n",
              "4  RT Today I simply wanted to renew my passport ...   \n",
              "5  RT Automated MachineLearning for rapid innovat...   \n",
              "6  Optimized Preprocessing and Machine Learning f...   \n",
              "7  New Publication Using a machine learning appro...   \n",
              "8  RT How important is each of the touch points i...   \n",
              "9  How important is each of the touch points in t...   \n",
              "\n",
              "                                            polarity  \n",
              "0  {'neg': 0.0, 'neu': 1.0, 'pos': 0.0, 'compound...  \n",
              "1  {'neg': 0.0, 'neu': 0.904, 'pos': 0.096, 'comp...  \n",
              "2  {'neg': 0.123, 'neu': 0.877, 'pos': 0.0, 'comp...  \n",
              "3  {'neg': 0.0, 'neu': 0.773, 'pos': 0.227, 'comp...  \n",
              "4  {'neg': 0.0, 'neu': 1.0, 'pos': 0.0, 'compound...  \n",
              "5  {'neg': 0.0, 'neu': 0.576, 'pos': 0.424, 'comp...  \n",
              "6  {'neg': 0.0, 'neu': 0.769, 'pos': 0.231, 'comp...  \n",
              "7  {'neg': 0.0, 'neu': 1.0, 'pos': 0.0, 'compound...  \n",
              "8  {'neg': 0.0, 'neu': 0.904, 'pos': 0.096, 'comp...  \n",
              "9  {'neg': 0.0, 'neu': 0.893, 'pos': 0.107, 'comp...  "
            ]
          },
          "metadata": {
            "tags": []
          }
        }
      ]
    },
    {
      "metadata": {
        "id": "AWOmux8Z1evE",
        "colab_type": "code",
        "colab": {}
      },
      "cell_type": "code",
      "source": [
        ""
      ],
      "execution_count": 0,
      "outputs": []
    }
  ]
}